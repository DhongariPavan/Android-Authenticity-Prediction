{
  "nbformat": 4,
  "nbformat_minor": 0,
  "metadata": {
    "colab": {
      "name": "ML capstone algo apply",
      "provenance": [],
      "mount_file_id": "1eYdtcE3xRYncpPOlPgquddd-WP9T_hWg",
      "authorship_tag": "ABX9TyMwqV1cotw7ZI8FRUyw7LZy",
      "include_colab_link": true
    },
    "kernelspec": {
      "name": "python3",
      "display_name": "Python 3"
    },
    "language_info": {
      "name": "python"
    }
  },
  "cells": [
    {
      "cell_type": "markdown",
      "metadata": {
        "id": "view-in-github",
        "colab_type": "text"
      },
      "source": [
        "<a href=\"https://colab.research.google.com/github/DhongariPavan/Android-Authenticity-Prediction/blob/main/ML_capstone_algo_apply.ipynb\" target=\"_parent\"><img src=\"https://colab.research.google.com/assets/colab-badge.svg\" alt=\"Open In Colab\"/></a>"
      ]
    },
    {
      "cell_type": "code",
      "metadata": {
        "id": "rj7jJR4qwg8G"
      },
      "source": [
        "import pandas as pd\n",
        "import numpy as np\n",
        "import matplotlib.pyplot as plt\n",
        "import seaborn as sns\n",
        "from sklearn.metrics import roc_auc_score, confusion_matrix, accuracy_score, classification_report"
      ],
      "execution_count": null,
      "outputs": []
    },
    {
      "cell_type": "code",
      "metadata": {
        "id": "EKCOd0D4wGaa"
      },
      "source": [
        "path = '/content/drive/MyDrive/Colab Notebooks/Almabetter/ML CAPSTONE PROJECT/Copy of final_dataframe.csv'\n",
        "df = pd.read_csv(path)"
      ],
      "execution_count": null,
      "outputs": []
    },
    {
      "cell_type": "code",
      "metadata": {
        "id": "oT2PQkMtwllq"
      },
      "source": [
        "df.drop('Unnamed: 0',axis=1,inplace=True)"
      ],
      "execution_count": null,
      "outputs": []
    },
    {
      "cell_type": "code",
      "metadata": {
        "id": "MNE0zBTZz5QC"
      },
      "source": [
        "a = df.pop('Class')\n",
        "df['Class'] = a"
      ],
      "execution_count": null,
      "outputs": []
    },
    {
      "cell_type": "code",
      "metadata": {
        "colab": {
          "base_uri": "https://localhost:8080/",
          "height": 411
        },
        "id": "lbkAMuR4wkSq",
        "outputId": "4e31949a-3c01-4bda-b0f1-9a36d1a317ac"
      },
      "source": [
        "df.head()"
      ],
      "execution_count": null,
      "outputs": [
        {
          "output_type": "execute_result",
          "data": {
            "text/html": [
              "<div>\n",
              "<style scoped>\n",
              "    .dataframe tbody tr th:only-of-type {\n",
              "        vertical-align: middle;\n",
              "    }\n",
              "\n",
              "    .dataframe tbody tr th {\n",
              "        vertical-align: top;\n",
              "    }\n",
              "\n",
              "    .dataframe thead th {\n",
              "        text-align: right;\n",
              "    }\n",
              "</style>\n",
              "<table border=\"1\" class=\"dataframe\">\n",
              "  <thead>\n",
              "    <tr style=\"text-align: right;\">\n",
              "      <th></th>\n",
              "      <th>Category</th>\n",
              "      <th>Rating</th>\n",
              "      <th>Number of ratings</th>\n",
              "      <th>Price</th>\n",
              "      <th>Related apps</th>\n",
              "      <th>Dangerous permissions count</th>\n",
              "      <th>Safe permissions count</th>\n",
              "      <th>Default : Access DRM content. (S)</th>\n",
              "      <th>Default : Access Email provider data (S)</th>\n",
              "      <th>Default : Advanced download manager functions. (S)</th>\n",
              "      <th>Default : Audio File Access (S)</th>\n",
              "      <th>Default : Install DRM content. (S)</th>\n",
              "      <th>Default : Modify Google settings (S)</th>\n",
              "      <th>Default : Move application resources (S)</th>\n",
              "      <th>Default : Read Google settings (S)</th>\n",
              "      <th>Default : Send download notifications. (S)</th>\n",
              "      <th>Default : Voice Search Shortcuts (S)</th>\n",
              "      <th>Default : access SurfaceFlinger (S)</th>\n",
              "      <th>Default : access checkin properties (S)</th>\n",
              "      <th>Default : access the cache filesystem (S)</th>\n",
              "      <th>Default : bind to a wallpaper (S)</th>\n",
              "      <th>Default : bind to an input method (S)</th>\n",
              "      <th>Default : change screen orientation (S)</th>\n",
              "      <th>Default : control location update notifications (S)</th>\n",
              "      <th>Default : control system backup and restore (S)</th>\n",
              "      <th>Default : delete applications (S)</th>\n",
              "      <th>Default : delete other applications' caches (S)</th>\n",
              "      <th>Default : delete other applications' data (S)</th>\n",
              "      <th>Default : directly call any phone numbers (S)</th>\n",
              "      <th>Default : directly install applications (S)</th>\n",
              "      <th>Default : disable or modify status bar (S)</th>\n",
              "      <th>Default : display unauthorized windows (S)</th>\n",
              "      <th>Default : enable or disable application components (S)</th>\n",
              "      <th>Default : force application to close (S)</th>\n",
              "      <th>Default : force device reboot (S)</th>\n",
              "      <th>Default : interact with a device admin (S)</th>\n",
              "      <th>Default : manage application tokens (S)</th>\n",
              "      <th>Default : modify battery statistics (S)</th>\n",
              "      <th>Default : modify secure system settings (S)</th>\n",
              "      <th>Default : modify the Google services map (S)</th>\n",
              "      <th>...</th>\n",
              "      <th>Your accounts : Google Maps (D)</th>\n",
              "      <th>Your accounts : Google Spreadsheets (D)</th>\n",
              "      <th>Your accounts : Google Voice (D)</th>\n",
              "      <th>Your accounts : Google mail (D)</th>\n",
              "      <th>Your accounts : Picasa Web Albums (D)</th>\n",
              "      <th>Your accounts : YouTube (D)</th>\n",
              "      <th>Your accounts : YouTube usernames (D)</th>\n",
              "      <th>Your accounts : access other Google services (D)</th>\n",
              "      <th>Your accounts : act as an account authenticator (D)</th>\n",
              "      <th>Your accounts : act as the AccountManagerService (S)</th>\n",
              "      <th>Your accounts : contacts data in Google accounts (D)</th>\n",
              "      <th>Your accounts : discover known accounts (S)</th>\n",
              "      <th>Your accounts : read Google service configuration (S)</th>\n",
              "      <th>Your accounts : use the authentication credentials of an account (D)</th>\n",
              "      <th>Your accounts : view configured accounts (S)</th>\n",
              "      <th>Your location : access extra location provider commands (S)</th>\n",
              "      <th>Your location : coarse (network-based) location (D)</th>\n",
              "      <th>Your location : fine (GPS) location (D)</th>\n",
              "      <th>Your location : mock location sources for testing (D)</th>\n",
              "      <th>Your messages : Read Email attachments (D)</th>\n",
              "      <th>Your messages : edit SMS or MMS (D)</th>\n",
              "      <th>Your messages : read Gmail (D)</th>\n",
              "      <th>Your messages : read SMS or MMS (D)</th>\n",
              "      <th>Your messages : read instant messages (D)</th>\n",
              "      <th>Your messages : receive SMS (D)</th>\n",
              "      <th>Your messages : receive WAP (D)</th>\n",
              "      <th>Your messages : send SMS-received broadcast (S)</th>\n",
              "      <th>Your personal information : add or modify calendar events and send email to guests (D)</th>\n",
              "      <th>Your personal information : choose widgets (S)</th>\n",
              "      <th>Your personal information : read Browser's history and bookmarks (D)</th>\n",
              "      <th>Your personal information : read calendar events (D)</th>\n",
              "      <th>Your personal information : read contact data (D)</th>\n",
              "      <th>Your personal information : read sensitive log data (D)</th>\n",
              "      <th>Your personal information : read user defined dictionary (D)</th>\n",
              "      <th>Your personal information : set alarm in alarm clock (S)</th>\n",
              "      <th>Your personal information : write Browser's history and bookmarks (D)</th>\n",
              "      <th>Your personal information : write contact data (D)</th>\n",
              "      <th>Your personal information : write to user defined dictionary (S)</th>\n",
              "      <th>Derived_Prob_Text</th>\n",
              "      <th>Class</th>\n",
              "    </tr>\n",
              "  </thead>\n",
              "  <tbody>\n",
              "    <tr>\n",
              "      <th>0</th>\n",
              "      <td>0.432553</td>\n",
              "      <td>3.1</td>\n",
              "      <td>77</td>\n",
              "      <td>0.0</td>\n",
              "      <td>4</td>\n",
              "      <td>7</td>\n",
              "      <td>1</td>\n",
              "      <td>0</td>\n",
              "      <td>0</td>\n",
              "      <td>0</td>\n",
              "      <td>0</td>\n",
              "      <td>0</td>\n",
              "      <td>0</td>\n",
              "      <td>0</td>\n",
              "      <td>0</td>\n",
              "      <td>0</td>\n",
              "      <td>0</td>\n",
              "      <td>0</td>\n",
              "      <td>0</td>\n",
              "      <td>0</td>\n",
              "      <td>0</td>\n",
              "      <td>0</td>\n",
              "      <td>0</td>\n",
              "      <td>0</td>\n",
              "      <td>0</td>\n",
              "      <td>0</td>\n",
              "      <td>0</td>\n",
              "      <td>0</td>\n",
              "      <td>0</td>\n",
              "      <td>0</td>\n",
              "      <td>0</td>\n",
              "      <td>0</td>\n",
              "      <td>0</td>\n",
              "      <td>0</td>\n",
              "      <td>0</td>\n",
              "      <td>0</td>\n",
              "      <td>0</td>\n",
              "      <td>0</td>\n",
              "      <td>0</td>\n",
              "      <td>0</td>\n",
              "      <td>...</td>\n",
              "      <td>0</td>\n",
              "      <td>0</td>\n",
              "      <td>0</td>\n",
              "      <td>0</td>\n",
              "      <td>0</td>\n",
              "      <td>0</td>\n",
              "      <td>0</td>\n",
              "      <td>0</td>\n",
              "      <td>0</td>\n",
              "      <td>0</td>\n",
              "      <td>0</td>\n",
              "      <td>0</td>\n",
              "      <td>0</td>\n",
              "      <td>0</td>\n",
              "      <td>0</td>\n",
              "      <td>0</td>\n",
              "      <td>0</td>\n",
              "      <td>1</td>\n",
              "      <td>0</td>\n",
              "      <td>0</td>\n",
              "      <td>0</td>\n",
              "      <td>0</td>\n",
              "      <td>0</td>\n",
              "      <td>0</td>\n",
              "      <td>0</td>\n",
              "      <td>0</td>\n",
              "      <td>0</td>\n",
              "      <td>0</td>\n",
              "      <td>0</td>\n",
              "      <td>0</td>\n",
              "      <td>0</td>\n",
              "      <td>1</td>\n",
              "      <td>0</td>\n",
              "      <td>0</td>\n",
              "      <td>0</td>\n",
              "      <td>0</td>\n",
              "      <td>1</td>\n",
              "      <td>0</td>\n",
              "      <td>0.651585</td>\n",
              "      <td>0</td>\n",
              "    </tr>\n",
              "    <tr>\n",
              "      <th>1</th>\n",
              "      <td>0.665267</td>\n",
              "      <td>4.3</td>\n",
              "      <td>199</td>\n",
              "      <td>0.0</td>\n",
              "      <td>4</td>\n",
              "      <td>3</td>\n",
              "      <td>2</td>\n",
              "      <td>0</td>\n",
              "      <td>0</td>\n",
              "      <td>0</td>\n",
              "      <td>0</td>\n",
              "      <td>0</td>\n",
              "      <td>0</td>\n",
              "      <td>0</td>\n",
              "      <td>0</td>\n",
              "      <td>0</td>\n",
              "      <td>0</td>\n",
              "      <td>0</td>\n",
              "      <td>0</td>\n",
              "      <td>0</td>\n",
              "      <td>0</td>\n",
              "      <td>0</td>\n",
              "      <td>0</td>\n",
              "      <td>0</td>\n",
              "      <td>0</td>\n",
              "      <td>0</td>\n",
              "      <td>0</td>\n",
              "      <td>0</td>\n",
              "      <td>0</td>\n",
              "      <td>0</td>\n",
              "      <td>0</td>\n",
              "      <td>0</td>\n",
              "      <td>0</td>\n",
              "      <td>0</td>\n",
              "      <td>0</td>\n",
              "      <td>0</td>\n",
              "      <td>0</td>\n",
              "      <td>0</td>\n",
              "      <td>0</td>\n",
              "      <td>0</td>\n",
              "      <td>...</td>\n",
              "      <td>0</td>\n",
              "      <td>0</td>\n",
              "      <td>0</td>\n",
              "      <td>0</td>\n",
              "      <td>0</td>\n",
              "      <td>0</td>\n",
              "      <td>0</td>\n",
              "      <td>0</td>\n",
              "      <td>0</td>\n",
              "      <td>0</td>\n",
              "      <td>0</td>\n",
              "      <td>1</td>\n",
              "      <td>0</td>\n",
              "      <td>0</td>\n",
              "      <td>0</td>\n",
              "      <td>0</td>\n",
              "      <td>0</td>\n",
              "      <td>0</td>\n",
              "      <td>0</td>\n",
              "      <td>0</td>\n",
              "      <td>0</td>\n",
              "      <td>0</td>\n",
              "      <td>0</td>\n",
              "      <td>0</td>\n",
              "      <td>0</td>\n",
              "      <td>0</td>\n",
              "      <td>0</td>\n",
              "      <td>0</td>\n",
              "      <td>0</td>\n",
              "      <td>0</td>\n",
              "      <td>0</td>\n",
              "      <td>0</td>\n",
              "      <td>0</td>\n",
              "      <td>0</td>\n",
              "      <td>0</td>\n",
              "      <td>0</td>\n",
              "      <td>0</td>\n",
              "      <td>0</td>\n",
              "      <td>0.756145</td>\n",
              "      <td>0</td>\n",
              "    </tr>\n",
              "    <tr>\n",
              "      <th>2</th>\n",
              "      <td>0.328165</td>\n",
              "      <td>4.1</td>\n",
              "      <td>243</td>\n",
              "      <td>0.0</td>\n",
              "      <td>4</td>\n",
              "      <td>1</td>\n",
              "      <td>1</td>\n",
              "      <td>0</td>\n",
              "      <td>0</td>\n",
              "      <td>0</td>\n",
              "      <td>0</td>\n",
              "      <td>0</td>\n",
              "      <td>0</td>\n",
              "      <td>0</td>\n",
              "      <td>0</td>\n",
              "      <td>0</td>\n",
              "      <td>0</td>\n",
              "      <td>0</td>\n",
              "      <td>0</td>\n",
              "      <td>0</td>\n",
              "      <td>0</td>\n",
              "      <td>0</td>\n",
              "      <td>0</td>\n",
              "      <td>0</td>\n",
              "      <td>0</td>\n",
              "      <td>0</td>\n",
              "      <td>0</td>\n",
              "      <td>0</td>\n",
              "      <td>0</td>\n",
              "      <td>0</td>\n",
              "      <td>0</td>\n",
              "      <td>0</td>\n",
              "      <td>0</td>\n",
              "      <td>0</td>\n",
              "      <td>0</td>\n",
              "      <td>0</td>\n",
              "      <td>0</td>\n",
              "      <td>0</td>\n",
              "      <td>0</td>\n",
              "      <td>0</td>\n",
              "      <td>...</td>\n",
              "      <td>0</td>\n",
              "      <td>0</td>\n",
              "      <td>0</td>\n",
              "      <td>0</td>\n",
              "      <td>0</td>\n",
              "      <td>0</td>\n",
              "      <td>0</td>\n",
              "      <td>0</td>\n",
              "      <td>0</td>\n",
              "      <td>0</td>\n",
              "      <td>0</td>\n",
              "      <td>0</td>\n",
              "      <td>0</td>\n",
              "      <td>0</td>\n",
              "      <td>0</td>\n",
              "      <td>0</td>\n",
              "      <td>0</td>\n",
              "      <td>0</td>\n",
              "      <td>0</td>\n",
              "      <td>0</td>\n",
              "      <td>0</td>\n",
              "      <td>0</td>\n",
              "      <td>0</td>\n",
              "      <td>0</td>\n",
              "      <td>0</td>\n",
              "      <td>0</td>\n",
              "      <td>0</td>\n",
              "      <td>0</td>\n",
              "      <td>0</td>\n",
              "      <td>0</td>\n",
              "      <td>0</td>\n",
              "      <td>0</td>\n",
              "      <td>0</td>\n",
              "      <td>0</td>\n",
              "      <td>0</td>\n",
              "      <td>0</td>\n",
              "      <td>0</td>\n",
              "      <td>0</td>\n",
              "      <td>0.365056</td>\n",
              "      <td>0</td>\n",
              "    </tr>\n",
              "    <tr>\n",
              "      <th>3</th>\n",
              "      <td>0.159734</td>\n",
              "      <td>3.6</td>\n",
              "      <td>2589</td>\n",
              "      <td>0.0</td>\n",
              "      <td>4</td>\n",
              "      <td>0</td>\n",
              "      <td>0</td>\n",
              "      <td>0</td>\n",
              "      <td>0</td>\n",
              "      <td>0</td>\n",
              "      <td>0</td>\n",
              "      <td>0</td>\n",
              "      <td>0</td>\n",
              "      <td>0</td>\n",
              "      <td>0</td>\n",
              "      <td>0</td>\n",
              "      <td>0</td>\n",
              "      <td>0</td>\n",
              "      <td>0</td>\n",
              "      <td>0</td>\n",
              "      <td>0</td>\n",
              "      <td>0</td>\n",
              "      <td>0</td>\n",
              "      <td>0</td>\n",
              "      <td>0</td>\n",
              "      <td>0</td>\n",
              "      <td>0</td>\n",
              "      <td>0</td>\n",
              "      <td>0</td>\n",
              "      <td>0</td>\n",
              "      <td>0</td>\n",
              "      <td>0</td>\n",
              "      <td>0</td>\n",
              "      <td>0</td>\n",
              "      <td>0</td>\n",
              "      <td>0</td>\n",
              "      <td>0</td>\n",
              "      <td>0</td>\n",
              "      <td>0</td>\n",
              "      <td>0</td>\n",
              "      <td>...</td>\n",
              "      <td>0</td>\n",
              "      <td>0</td>\n",
              "      <td>0</td>\n",
              "      <td>0</td>\n",
              "      <td>0</td>\n",
              "      <td>0</td>\n",
              "      <td>0</td>\n",
              "      <td>0</td>\n",
              "      <td>0</td>\n",
              "      <td>0</td>\n",
              "      <td>0</td>\n",
              "      <td>0</td>\n",
              "      <td>0</td>\n",
              "      <td>0</td>\n",
              "      <td>0</td>\n",
              "      <td>0</td>\n",
              "      <td>0</td>\n",
              "      <td>0</td>\n",
              "      <td>0</td>\n",
              "      <td>0</td>\n",
              "      <td>0</td>\n",
              "      <td>0</td>\n",
              "      <td>0</td>\n",
              "      <td>0</td>\n",
              "      <td>0</td>\n",
              "      <td>0</td>\n",
              "      <td>0</td>\n",
              "      <td>0</td>\n",
              "      <td>0</td>\n",
              "      <td>0</td>\n",
              "      <td>0</td>\n",
              "      <td>0</td>\n",
              "      <td>0</td>\n",
              "      <td>0</td>\n",
              "      <td>0</td>\n",
              "      <td>0</td>\n",
              "      <td>0</td>\n",
              "      <td>0</td>\n",
              "      <td>0.838322</td>\n",
              "      <td>0</td>\n",
              "    </tr>\n",
              "    <tr>\n",
              "      <th>4</th>\n",
              "      <td>0.674064</td>\n",
              "      <td>4.5</td>\n",
              "      <td>16</td>\n",
              "      <td>0.0</td>\n",
              "      <td>4</td>\n",
              "      <td>3</td>\n",
              "      <td>1</td>\n",
              "      <td>0</td>\n",
              "      <td>0</td>\n",
              "      <td>0</td>\n",
              "      <td>0</td>\n",
              "      <td>0</td>\n",
              "      <td>0</td>\n",
              "      <td>0</td>\n",
              "      <td>0</td>\n",
              "      <td>0</td>\n",
              "      <td>0</td>\n",
              "      <td>0</td>\n",
              "      <td>0</td>\n",
              "      <td>0</td>\n",
              "      <td>0</td>\n",
              "      <td>0</td>\n",
              "      <td>0</td>\n",
              "      <td>0</td>\n",
              "      <td>0</td>\n",
              "      <td>0</td>\n",
              "      <td>0</td>\n",
              "      <td>0</td>\n",
              "      <td>0</td>\n",
              "      <td>0</td>\n",
              "      <td>0</td>\n",
              "      <td>0</td>\n",
              "      <td>0</td>\n",
              "      <td>0</td>\n",
              "      <td>0</td>\n",
              "      <td>0</td>\n",
              "      <td>0</td>\n",
              "      <td>0</td>\n",
              "      <td>0</td>\n",
              "      <td>0</td>\n",
              "      <td>...</td>\n",
              "      <td>0</td>\n",
              "      <td>0</td>\n",
              "      <td>0</td>\n",
              "      <td>0</td>\n",
              "      <td>0</td>\n",
              "      <td>0</td>\n",
              "      <td>0</td>\n",
              "      <td>0</td>\n",
              "      <td>0</td>\n",
              "      <td>0</td>\n",
              "      <td>0</td>\n",
              "      <td>0</td>\n",
              "      <td>0</td>\n",
              "      <td>0</td>\n",
              "      <td>0</td>\n",
              "      <td>0</td>\n",
              "      <td>0</td>\n",
              "      <td>0</td>\n",
              "      <td>0</td>\n",
              "      <td>0</td>\n",
              "      <td>0</td>\n",
              "      <td>0</td>\n",
              "      <td>0</td>\n",
              "      <td>0</td>\n",
              "      <td>0</td>\n",
              "      <td>0</td>\n",
              "      <td>0</td>\n",
              "      <td>0</td>\n",
              "      <td>0</td>\n",
              "      <td>0</td>\n",
              "      <td>0</td>\n",
              "      <td>0</td>\n",
              "      <td>0</td>\n",
              "      <td>0</td>\n",
              "      <td>0</td>\n",
              "      <td>0</td>\n",
              "      <td>0</td>\n",
              "      <td>0</td>\n",
              "      <td>0.921213</td>\n",
              "      <td>0</td>\n",
              "    </tr>\n",
              "  </tbody>\n",
              "</table>\n",
              "<p>5 rows × 151 columns</p>\n",
              "</div>"
            ],
            "text/plain": [
              "   Category  Rating  ...  Derived_Prob_Text  Class\n",
              "0  0.432553     3.1  ...           0.651585      0\n",
              "1  0.665267     4.3  ...           0.756145      0\n",
              "2  0.328165     4.1  ...           0.365056      0\n",
              "3  0.159734     3.6  ...           0.838322      0\n",
              "4  0.674064     4.5  ...           0.921213      0\n",
              "\n",
              "[5 rows x 151 columns]"
            ]
          },
          "metadata": {},
          "execution_count": 8
        }
      ]
    },
    {
      "cell_type": "code",
      "metadata": {
        "colab": {
          "base_uri": "https://localhost:8080/"
        },
        "id": "j6KMevd9xUd-",
        "outputId": "8034cdd3-5908-4685-b10d-88e9b9f1d229"
      },
      "source": [
        "df.Class.value_counts()"
      ],
      "execution_count": null,
      "outputs": [
        {
          "output_type": "execute_result",
          "data": {
            "text/plain": [
              "1    18232\n",
              "0     9078\n",
              "Name: Class, dtype: int64"
            ]
          },
          "metadata": {},
          "execution_count": 9
        }
      ]
    },
    {
      "cell_type": "code",
      "metadata": {
        "id": "OrH8d4nIwu34"
      },
      "source": [
        "corr_matrix = df[['Category','Rating','Number of ratings','Price','Related apps','Dangerous permissions count','Safe permissions count','Derived_Prob_Text','Class']]"
      ],
      "execution_count": null,
      "outputs": []
    },
    {
      "cell_type": "code",
      "metadata": {
        "colab": {
          "base_uri": "https://localhost:8080/",
          "height": 843
        },
        "id": "g3MmbrTYxQet",
        "outputId": "04c4ea13-4ba2-4866-9d54-4334756aeeee"
      },
      "source": [
        "plt.figure(figsize=(14,12))\n",
        "sns.heatmap(corr_matrix.corr(),linewidths=.1,cmap=\"YlGnBu\", annot=True)\n",
        "plt.yticks(rotation=0);"
      ],
      "execution_count": null,
      "outputs": [
        {
          "output_type": "display_data",
          "data": {
            "image/png": "[encoded data removed]",
            "text/plain": [
              "<Figure size 1008x864 with 2 Axes>"
            ]
          },
          "metadata": {
            "needs_background": "light"
          }
        }
      ]
    },
    {
      "cell_type": "code",
      "metadata": {
        "id": "Iiz_NYvCxnPK"
      },
      "source": [
        "df2 = df.copy()"
      ],
      "execution_count": null,
      "outputs": []
    },
    {
      "cell_type": "code",
      "metadata": {
        "colab": {
          "base_uri": "https://localhost:8080/"
        },
        "id": "eBZeZ1xIyRlw",
        "outputId": "7eccb17b-1038-4aae-b05a-7d1e92de66d0"
      },
      "source": [
        "from imblearn.over_sampling import SMOTE\n",
        "\n",
        "smote = SMOTE()\n",
        "\n",
        "# fit predictor and target variable\n",
        "x_smote, y_smote = smote.fit_resample(df2.iloc[:,0:-1], df2['Class'])\n",
        "\n",
        "print('Original dataset shape', len(df2))\n",
        "print('Resampled dataset shape', len(y_smote))"
      ],
      "execution_count": null,
      "outputs": [
        {
          "output_type": "stream",
          "name": "stderr",
          "text": [
            "/usr/local/lib/python3.7/dist-packages/sklearn/externals/six.py:31: FutureWarning: The module is deprecated in version 0.21 and will be removed in version 0.23 since we've dropped support for Python 2.7. Please rely on the official version of six (https://pypi.org/project/six/).\n",
            "  \"(https://pypi.org/project/six/).\", FutureWarning)\n",
            "/usr/local/lib/python3.7/dist-packages/sklearn/utils/deprecation.py:144: FutureWarning: The sklearn.neighbors.base module is  deprecated in version 0.22 and will be removed in version 0.24. The corresponding classes / functions should instead be imported from sklearn.neighbors. Anything that cannot be imported from sklearn.neighbors is now part of the private API.\n",
            "  warnings.warn(message, FutureWarning)\n",
            "/usr/local/lib/python3.7/dist-packages/sklearn/utils/deprecation.py:87: FutureWarning: Function safe_indexing is deprecated; safe_indexing is deprecated in version 0.22 and will be removed in version 0.24.\n",
            "  warnings.warn(msg, category=FutureWarning)\n"
          ]
        },
        {
          "output_type": "stream",
          "name": "stdout",
          "text": [
            "Original dataset shape 27310\n",
            "Resampled dataset shape 36464\n"
          ]
        }
      ]
    },
    {
      "cell_type": "code",
      "metadata": {
        "colab": {
          "base_uri": "https://localhost:8080/",
          "height": 843
        },
        "id": "s1XS8yw5yp16",
        "outputId": "5c735ca3-e129-4ec9-8a85-8d5674632048"
      },
      "source": [
        "corr_matrix = df2[['Category','Rating','Number of ratings','Price','Related apps','Dangerous permissions count','Safe permissions count','Derived_Prob_Text','Class']]\n",
        "plt.figure(figsize=(14,12))\n",
        "sns.heatmap(corr_matrix.corr(),linewidths=.1,cmap=\"YlGnBu\", annot=True)\n",
        "plt.yticks(rotation=0);"
      ],
      "execution_count": null,
      "outputs": [
        {
          "output_type": "display_data",
          "data": {
            "image/png": "[encoded data removed]",
            "text/plain": [
              "<Figure size 1008x864 with 2 Axes>"
            ]
          },
          "metadata": {
            "needs_background": "light"
          }
        }
      ]
    },
    {
      "cell_type": "code",
      "metadata": {
        "id": "5vFWbHylDJmR"
      },
      "source": [
        ""
      ],
      "execution_count": null,
      "outputs": []
    },
    {
      "cell_type": "code",
      "metadata": {
        "id": "zcM20_mLzc-g"
      },
      "source": [
        "df3 = df.copy()"
      ],
      "execution_count": null,
      "outputs": []
    },
    {
      "cell_type": "markdown",
      "metadata": {
        "id": "dY95iVWQKl-w"
      },
      "source": [
        "# Original data( without SMOTE)"
      ]
    },
    {
      "cell_type": "code",
      "metadata": {
        "id": "RYyNw1Fyzsv8"
      },
      "source": [
        "from sklearn.model_selection import train_test_split\n",
        "# Creating the dataset with all independent variables\n",
        "X = df3.iloc[:,:-1]\n",
        "\n",
        "# Creating the dataset with the dependent variable\n",
        "Y = df3.iloc[:,-1]\n",
        "Y=Y.astype('int')\n",
        "# Splitting the dataset into the Training set and Test set\n",
        "X_train, X_test, Y_train, Y_test = train_test_split(X, Y, test_size = 0.2, random_state = 3)"
      ],
      "execution_count": null,
      "outputs": []
    },
    {
      "cell_type": "code",
      "metadata": {
        "colab": {
          "base_uri": "https://localhost:8080/"
        },
        "id": "opp2GIylzfZe",
        "outputId": "af7294cc-e714-495d-8c38-95d3e6ee38b6"
      },
      "source": [
        "from sklearn.svm import SVC\n",
        "\n",
        "# we can add class_weight='balanced' to add penalize mistake\n",
        "svc_model = SVC(class_weight='balanced', probability=True)\n",
        "\n",
        "svc_model.fit(X_train, Y_train)\n",
        "\n",
        "svc_predict = svc_model.predict(X_test)\n",
        "print('ROCAUC score:',roc_auc_score(Y_test, svc_predict))\n",
        "print('Accuracy score:',accuracy_score(Y_test, svc_predict))"
      ],
      "execution_count": null,
      "outputs": [
        {
          "output_type": "stream",
          "name": "stdout",
          "text": [
            "ROCAUC score: 0.5548252726812573\n",
            "Accuracy score: 0.6839985353350421\n"
          ]
        }
      ]
    },
    {
      "cell_type": "markdown",
      "metadata": {
        "id": "mQXssOl6KboA"
      },
      "source": [
        "# With upsampled data using SMOTE"
      ]
    },
    {
      "cell_type": "code",
      "metadata": {
        "id": "2PRZHLoIKaZE"
      },
      "source": [
        "from sklearn.model_selection import train_test_split\n",
        "\n",
        "# Splitting the dataset into the Training set and Test set\n",
        "X_train, X_test, Y_train, Y_test = train_test_split(x_smote,y_smote, test_size = 0.2, random_state = 3)"
      ],
      "execution_count": null,
      "outputs": []
    },
    {
      "cell_type": "code",
      "metadata": {
        "colab": {
          "base_uri": "https://localhost:8080/"
        },
        "id": "FpP4f911Kki0",
        "outputId": "3f084b9d-650d-4dcc-9cf5-41540386e1b9"
      },
      "source": [
        "#from sklearn.svm import SVC\n",
        "\n",
        "# we can add class_weight='balanced' to add penalize mistake\n",
        "svc_model = SVC(class_weight='balanced', probability=True)\n",
        "\n",
        "svc_model.fit(X_train, Y_train)\n",
        "\n",
        "svc_predict = svc_model.predict(X_test)\n",
        "print('ROCAUC score:',roc_auc_score(Y_test, svc_predict))\n",
        "print('Accuracy score:',accuracy_score(Y_test, svc_predict))"
      ],
      "execution_count": null,
      "outputs": [
        {
          "output_type": "stream",
          "name": "stdout",
          "text": [
            "ROCAUC score: 0.5532692428599318\n",
            "Accuracy score: 0.5527217880159057\n"
          ]
        }
      ]
    },
    {
      "cell_type": "code",
      "metadata": {
        "colab": {
          "base_uri": "https://localhost:8080/"
        },
        "id": "-3Kp24HS1IYP",
        "outputId": "68d0cfba-e32e-4e91-c489-dbf72e23233e"
      },
      "source": [
        "from xgboost import XGBClassifier\n",
        "\n",
        "xgb_model = XGBClassifier().fit(X_train, Y_train)\n",
        "\n",
        "# predict\n",
        "xgb_y_predict = xgb_model.predict(X_test)\n",
        "\n",
        "print('ROCAUC score:', roc_auc_score(Y_test, xgb_y_predict))\n",
        "print('Accuracy score:', accuracy_score(Y_test, xgb_y_predict))"
      ],
      "execution_count": null,
      "outputs": [
        {
          "output_type": "stream",
          "name": "stdout",
          "text": [
            "ROCAUC score: 0.9054790984867788\n",
            "Accuracy score: 0.9055258467023173\n"
          ]
        }
      ]
    },
    {
      "cell_type": "markdown",
      "metadata": {
        "id": "A7Dx7MZ17l1-"
      },
      "source": [
        "# Logestic Regresssion #"
      ]
    },
    {
      "cell_type": "markdown",
      "metadata": {
        "id": "JArpbOO2FedX"
      },
      "source": [
        "## Before Resampling ##"
      ]
    },
    {
      "cell_type": "code",
      "metadata": {
        "colab": {
          "base_uri": "https://localhost:8080/"
        },
        "id": "UAMjiwhtE3OG",
        "outputId": "d0affa13-61f2-4fd3-f6cf-a574e13fcfb4"
      },
      "source": [
        "from sklearn.model_selection import train_test_split\n",
        "# Creating the dataset with all independent variables\n",
        "X = df3.iloc[:,:-1]\n",
        "\n",
        "# Creating the dataset with the dependent variable\n",
        "Y = df3.iloc[:,-1]\n",
        "Y=Y.astype('int')\n",
        "\n",
        "# Splitting the dataset into the Training set and Test set\n",
        "X_train, X_test, Y_train, Y_test = train_test_split(X, Y, test_size = 0.2, random_state = 3)\n",
        "from sklearn import metrics\n",
        "from sklearn.linear_model import LogisticRegression\n",
        "\n",
        "clf = LogisticRegression(fit_intercept=True, max_iter=10000)\n",
        "clf.fit(X_train,Y_train)\n",
        "\n",
        "# Get the predicted probabilities\n",
        "train_preds = clf.predict_proba(X_train)\n",
        "test_preds = clf.predict_proba(X_test)\n",
        "train_class_preds = clf.predict(X_train)\n",
        "test_class_preds = clf.predict(X_test)\n",
        "# Get the accuracy scores\n",
        "train_accuracy = accuracy_score(train_class_preds,Y_train)\n",
        "test_accuracy = accuracy_score(test_class_preds,Y_test)\n",
        "\n",
        "print(\"The accuracy on train data is \", train_accuracy)\n",
        "print(\"The accuracy on test data is \", test_accuracy)"
      ],
      "execution_count": null,
      "outputs": [
        {
          "output_type": "stream",
          "name": "stdout",
          "text": [
            "The accuracy on train data is  0.6649121201025265\n",
            "The accuracy on test data is  0.6777737092640058\n"
          ]
        }
      ]
    },
    {
      "cell_type": "code",
      "metadata": {
        "colab": {
          "base_uri": "https://localhost:8080/",
          "height": 107
        },
        "id": "PRFE3bXcFw4x",
        "outputId": "28ffd550-bc32-4d2d-e190-b612e97afc42"
      },
      "source": [
        "# Get the confusion matrix for both train and test\n",
        "\n",
        "labels = ['0', '1']\n",
        "cm = confusion_matrix(Y_train, train_class_preds)\n",
        "print(cm)\n",
        "\n",
        "ax= plt.subplot()\n",
        "sns.heatmap(cm, annot=True, ax = ax) #annot=True to annotate cells\n",
        "\n",
        "# labels, title and ticks\n",
        "ax.set_xlabel('Predicted labels')\n",
        "ax.set_ylabel('True labels')\n",
        "ax.set_title('Confusion Matrix')\n",
        "ax.xaxis.set_ticklabels(labels)\n",
        "ax.yaxis.set_ticklabels(labels)"
      ],
      "execution_count": null,
      "outputs": [
        {
          "output_type": "stream",
          "name": "stdout",
          "text": [
            "[[   31  7289]\n",
            " [   32 14496]]\n"
          ]
        },
        {
          "output_type": "execute_result",
          "data": {
            "text/plain": [
              "[Text(0, 0.5, '0'), Text(0, 1.5, '1')]"
            ]
          },
          "metadata": {},
          "execution_count": 23
        },
        {
          "output_type": "display_data",
          "data": {
            "image/png": "[encoded data removed]",
            "text/plain": [
              "<Figure size 432x288 with 2 Axes>"
            ]
          },
          "metadata": {
            "needs_background": "light"
          }
        }
      ]
    },
    {
      "cell_type": "code",
      "metadata": {
        "colab": {
          "base_uri": "https://localhost:8080/",
          "height": 107
        },
        "id": "Fo4mm-gzF5gn",
        "outputId": "55128a77-cf5b-4f5c-d476-335700a9010e"
      },
      "source": [
        "# Get the confusion matrix for both train and test\n",
        "\n",
        "labels = ['0', '1']\n",
        "cm = confusion_matrix(Y_test, test_class_preds)\n",
        "print(cm)\n",
        "\n",
        "ax= plt.subplot()\n",
        "sns.heatmap(cm, annot=True, ax = ax) #annot=True to annotate cells\n",
        "\n",
        "# labels, title and ticks\n",
        "ax.set_xlabel('Predicted labels')\n",
        "ax.set_ylabel('True labels')\n",
        "ax.set_title('Confusion Matrix')\n",
        "ax.xaxis.set_ticklabels(labels)\n",
        "ax.yaxis.set_ticklabels(labels)"
      ],
      "execution_count": null,
      "outputs": [
        {
          "output_type": "stream",
          "name": "stdout",
          "text": [
            "[[   7 1751]\n",
            " [   9 3695]]\n"
          ]
        },
        {
          "output_type": "execute_result",
          "data": {
            "text/plain": [
              "[Text(0, 0.5, '0'), Text(0, 1.5, '1')]"
            ]
          },
          "metadata": {},
          "execution_count": 24
        },
        {
          "output_type": "display_data",
          "data": {
            "image/png": "[encoded data removed]",
            "text/plain": [
              "<Figure size 432x288 with 2 Axes>"
            ]
          },
          "metadata": {
            "needs_background": "light"
          }
        }
      ]
    },
    {
      "cell_type": "code",
      "metadata": {
        "colab": {
          "base_uri": "https://localhost:8080/"
        },
        "id": "Cpm9vZj0F5_I",
        "outputId": "7d676cc9-7be2-48f9-d661-a1531650a129"
      },
      "source": [
        "predictions = clf.predict(X_test)\n",
        "print(classification_report(Y_test, predictions))"
      ],
      "execution_count": null,
      "outputs": [
        {
          "output_type": "stream",
          "name": "stdout",
          "text": [
            "              precision    recall  f1-score   support\n",
            "\n",
            "           0       0.44      0.00      0.01      1758\n",
            "           1       0.68      1.00      0.81      3704\n",
            "\n",
            "    accuracy                           0.68      5462\n",
            "   macro avg       0.56      0.50      0.41      5462\n",
            "weighted avg       0.60      0.68      0.55      5462\n",
            "\n"
          ]
        }
      ]
    },
    {
      "cell_type": "markdown",
      "metadata": {
        "id": "-6g4iWShFa0B"
      },
      "source": [
        "# after resampling #"
      ]
    },
    {
      "cell_type": "code",
      "metadata": {
        "id": "QpnkMT_r-Lpa"
      },
      "source": [
        "from sklearn.model_selection import train_test_split\n",
        "\n",
        "# Splitting the dataset into the Training set and Test set\n",
        "X_train, X_test, Y_train, Y_test = train_test_split(x_smote, y_smote, test_size = 0.2, random_state = 3)"
      ],
      "execution_count": null,
      "outputs": []
    },
    {
      "cell_type": "code",
      "metadata": {
        "colab": {
          "base_uri": "https://localhost:8080/"
        },
        "id": "u7iz5URD1JXy",
        "outputId": "626b1671-660e-4688-ad10-2552011f2542"
      },
      "source": [
        "from sklearn import metrics\n",
        "from sklearn.linear_model import LogisticRegression\n",
        "\n",
        "clf = LogisticRegression(fit_intercept=True, max_iter=10000)\n",
        "clf.fit(X_train,Y_train)"
      ],
      "execution_count": null,
      "outputs": [
        {
          "output_type": "execute_result",
          "data": {
            "text/plain": [
              "LogisticRegression(C=1.0, class_weight=None, dual=False, fit_intercept=True,\n",
              "                   intercept_scaling=1, l1_ratio=None, max_iter=10000,\n",
              "                   multi_class='auto', n_jobs=None, penalty='l2',\n",
              "                   random_state=None, solver='lbfgs', tol=0.0001, verbose=0,\n",
              "                   warm_start=False)"
            ]
          },
          "metadata": {},
          "execution_count": 27
        }
      ]
    },
    {
      "cell_type": "code",
      "metadata": {
        "colab": {
          "base_uri": "https://localhost:8080/"
        },
        "id": "8R9rBohq8aY2",
        "outputId": "cbe59493-5bcb-4e3f-894e-32ab989f7664"
      },
      "source": [
        "clf.coef_"
      ],
      "execution_count": null,
      "outputs": [
        {
          "output_type": "execute_result",
          "data": {
            "text/plain": [
              "array([[ 1.22953133e-09, -4.01778187e-09, -2.81327061e-06,\n",
              "         1.11871612e-09,  1.66567216e-10, -6.13489653e-10,\n",
              "        -1.40142754e-09, -1.02921646e-12, -1.26932408e-12,\n",
              "        -1.22484012e-14, -5.63703413e-13, -3.62028530e-12,\n",
              "        -1.29195318e-12, -6.10340743e-13, -7.56797384e-13,\n",
              "         9.12834872e-13, -1.29195318e-12, -5.64483292e-13,\n",
              "         3.37354183e-12, -1.22484012e-14, -8.83644438e-12,\n",
              "         2.85158817e-12,  1.19834144e-12,  6.90040244e-12,\n",
              "        -5.89432384e-13,  1.60100991e-11, -1.49586264e-12,\n",
              "        -8.01388740e-12, -6.43322247e-12,  1.40021402e-11,\n",
              "         4.16565023e-12, -4.43559217e-12, -1.64361622e-12,\n",
              "         8.48498047e-13, -6.41334254e-12, -2.79555737e-12,\n",
              "        -5.16211561e-13,  9.97572847e-13, -1.30661047e-11,\n",
              "         2.97766738e-12,  4.25152634e-13, -7.20956745e-13,\n",
              "         1.83648073e-11,  7.04646855e-12, -1.28384059e-12,\n",
              "        -1.86661597e-12, -5.66226979e-13, -8.41797069e-13,\n",
              "        -1.38312624e-12, -6.10340743e-13,  7.07342582e-16,\n",
              "         4.23203740e-13,  8.46403067e-13, -1.63781346e-12,\n",
              "        -6.94960891e-13, -1.42058110e-11, -1.92417251e-10,\n",
              "        -2.12515426e-11,  9.19182752e-11, -4.58175001e-12,\n",
              "         8.46635723e-13, -1.05944800e-12,  8.23973502e-12,\n",
              "        -4.67713381e-10,  1.75726351e-13,  1.52275379e-12,\n",
              "         6.18460628e-11, -9.53067886e-10,  8.00530270e-12,\n",
              "        -5.19222427e-12, -4.25055832e-10,  2.19501699e-10,\n",
              "        -4.78391007e-12, -2.37712620e-10, -4.56861969e-12,\n",
              "        -9.92139134e-11, -8.18258203e-12,  4.15346200e-11,\n",
              "         3.63319480e-11,  2.40959018e-11, -5.57719048e-12,\n",
              "         1.31628267e-11, -1.19912592e-11,  4.00421263e-12,\n",
              "         7.88427683e-14,  2.41885575e-13, -1.15006658e-11,\n",
              "         5.44993416e-12, -8.53637794e-12,  3.32933417e-13,\n",
              "        -1.03769685e-10, -1.47878264e-11, -1.09421787e-10,\n",
              "        -4.36505194e-12, -3.14621548e-11, -1.41289043e-11,\n",
              "        -6.07843702e-13, -1.27085852e-12, -8.76728745e-11,\n",
              "         1.25410266e-12,  3.50694082e-11,  1.59257733e-12,\n",
              "         9.24773093e-13, -1.26779594e-10,  5.61801043e-13,\n",
              "         2.00928142e-12, -6.35262045e-12, -3.26088608e-11,\n",
              "        -3.84402147e-13, -1.23100788e-12, -1.20789436e-12,\n",
              "         1.54722371e-12, -1.23100788e-12, -1.75787322e-12,\n",
              "        -2.96060216e-12, -1.91724825e-12, -8.91135697e-13,\n",
              "        -1.31434495e-12,  9.43213518e-12, -2.40094599e-11,\n",
              "        -5.23636376e-12,  8.71523478e-13, -1.32794669e-10,\n",
              "        -8.17348669e-12, -2.05618787e-11, -2.53905221e-12,\n",
              "         8.56622748e-11,  1.03900596e-10,  4.06728120e-10,\n",
              "         1.29908616e-10, -5.10142829e-12,  1.21531170e-11,\n",
              "        -4.48659069e-12,  1.81136773e-11, -1.07963537e-12,\n",
              "         1.68281275e-11,  2.42382934e-12,  1.59370846e-12,\n",
              "         4.48712239e-11,  4.54422150e-12, -1.19364207e-10,\n",
              "         4.79731278e-11, -5.51592774e-11, -8.68576310e-11,\n",
              "         4.75881391e-12,  1.90620140e-13, -1.19605308e-10,\n",
              "        -1.93939925e-11,  2.33380785e-12, -2.39442294e-09]])"
            ]
          },
          "metadata": {},
          "execution_count": 28
        }
      ]
    },
    {
      "cell_type": "code",
      "metadata": {
        "colab": {
          "base_uri": "https://localhost:8080/"
        },
        "id": "po1IlJLa8ius",
        "outputId": "8ac1e69d-46eb-424a-9d22-0c6266da88ce"
      },
      "source": [
        "clf.intercept_"
      ],
      "execution_count": null,
      "outputs": [
        {
          "output_type": "execute_result",
          "data": {
            "text/plain": [
              "array([9.14884376e-11])"
            ]
          },
          "metadata": {},
          "execution_count": 29
        }
      ]
    },
    {
      "cell_type": "code",
      "metadata": {
        "id": "SRzsyBSy8lBS"
      },
      "source": [
        "# Get the predicted probabilities\n",
        "train_preds = clf.predict_proba(X_train)\n",
        "test_preds = clf.predict_proba(X_test)\n",
        "train_class_preds = clf.predict(X_train)\n",
        "test_class_preds = clf.predict(X_test)"
      ],
      "execution_count": null,
      "outputs": []
    },
    {
      "cell_type": "code",
      "metadata": {
        "colab": {
          "base_uri": "https://localhost:8080/"
        },
        "id": "VbhjoKba80aS",
        "outputId": "403e1e2b-b30f-435d-f333-095dec9ddabf"
      },
      "source": [
        "# Get the accuracy scores\n",
        "train_accuracy = accuracy_score(train_class_preds,Y_train)\n",
        "test_accuracy = accuracy_score(test_class_preds,Y_test)\n",
        "\n",
        "print(\"The accuracy on train data is \", train_accuracy)\n",
        "print(\"The accuracy on test data is \", test_accuracy)"
      ],
      "execution_count": null,
      "outputs": [
        {
          "output_type": "stream",
          "name": "stdout",
          "text": [
            "The accuracy on train data is  0.5372801755167803\n",
            "The accuracy on test data is  0.5380501851090086\n"
          ]
        }
      ]
    },
    {
      "cell_type": "code",
      "metadata": {
        "colab": {
          "base_uri": "https://localhost:8080/",
          "height": 347
        },
        "id": "ZynGhjdI9Dqn",
        "outputId": "b58b98c8-8246-4183-efd2-dc352f7886b9"
      },
      "source": [
        "# Get the confusion matrix for both train and test\n",
        "\n",
        "labels = ['0', '1']\n",
        "cm = confusion_matrix(Y_train, train_class_preds)\n",
        "print(cm)\n",
        "\n",
        "ax= plt.subplot()\n",
        "sns.heatmap(cm, annot=True, ax = ax) #annot=True to annotate cells\n",
        "\n",
        "# labels, title and ticks\n",
        "ax.set_xlabel('Predicted labels')\n",
        "ax.set_ylabel('True labels')\n",
        "ax.set_title('Confusion Matrix')\n",
        "ax.xaxis.set_ticklabels(labels)\n",
        "ax.yaxis.set_ticklabels(labels)"
      ],
      "execution_count": null,
      "outputs": [
        {
          "output_type": "stream",
          "name": "stdout",
          "text": [
            "[[14580     0]\n",
            " [13498  1093]]\n"
          ]
        },
        {
          "output_type": "execute_result",
          "data": {
            "text/plain": [
              "[Text(0, 0.5, '0'), Text(0, 1.5, '1')]"
            ]
          },
          "metadata": {},
          "execution_count": 32
        },
        {
          "output_type": "display_data",
          "data": {
            "image/png": "[encoded data removed]",
            "text/plain": [
              "<Figure size 432x288 with 2 Axes>"
            ]
          },
          "metadata": {
            "needs_background": "light"
          }
        }
      ]
    },
    {
      "cell_type": "code",
      "metadata": {
        "colab": {
          "base_uri": "https://localhost:8080/",
          "height": 107
        },
        "id": "3X7oPf5g9Nul",
        "outputId": "72c41fc8-532d-4f80-d6db-b1d731f595b8"
      },
      "source": [
        "# Get the confusion matrix for both train and test\n",
        "\n",
        "labels = ['0', '1']\n",
        "cm = confusion_matrix(Y_test, test_class_preds)\n",
        "print(cm)\n",
        "\n",
        "ax= plt.subplot()\n",
        "sns.heatmap(cm, annot=True, ax = ax) #annot=True to annotate cells\n",
        "\n",
        "# labels, title and ticks\n",
        "ax.set_xlabel('Predicted labels')\n",
        "ax.set_ylabel('True labels')\n",
        "ax.set_title('Confusion Matrix')\n",
        "ax.xaxis.set_ticklabels(labels)\n",
        "ax.yaxis.set_ticklabels(labels)"
      ],
      "execution_count": null,
      "outputs": [
        {
          "output_type": "stream",
          "name": "stdout",
          "text": [
            "[[3652    0]\n",
            " [3369  272]]\n"
          ]
        },
        {
          "output_type": "execute_result",
          "data": {
            "text/plain": [
              "[Text(0, 0.5, '0'), Text(0, 1.5, '1')]"
            ]
          },
          "metadata": {},
          "execution_count": 33
        },
        {
          "output_type": "display_data",
          "data": {
            "image/png": "[encoded data removed]",
            "text/plain": [
              "<Figure size 432x288 with 2 Axes>"
            ]
          },
          "metadata": {
            "needs_background": "light"
          }
        }
      ]
    },
    {
      "cell_type": "code",
      "metadata": {
        "colab": {
          "base_uri": "https://localhost:8080/"
        },
        "id": "RzLeXfhhEIVw",
        "outputId": "cd3a06ad-60f7-4ab6-c08e-d7b737947f0d"
      },
      "source": [
        "predictions = clf.predict(X_test)\n",
        "print(classification_report(Y_test, predictions))"
      ],
      "execution_count": null,
      "outputs": [
        {
          "output_type": "stream",
          "name": "stdout",
          "text": [
            "              precision    recall  f1-score   support\n",
            "\n",
            "           0       0.52      1.00      0.68      3652\n",
            "           1       1.00      0.07      0.14      3641\n",
            "\n",
            "    accuracy                           0.54      7293\n",
            "   macro avg       0.76      0.54      0.41      7293\n",
            "weighted avg       0.76      0.54      0.41      7293\n",
            "\n"
          ]
        }
      ]
    },
    {
      "cell_type": "code",
      "metadata": {
        "colab": {
          "base_uri": "https://localhost:8080/"
        },
        "id": "0X-C2LWTJHPD",
        "outputId": "b2752b2c-b929-4240-ef66-211865366503"
      },
      "source": [
        "print(classification_report(Y_test, test_class_preds))"
      ],
      "execution_count": null,
      "outputs": [
        {
          "output_type": "stream",
          "name": "stdout",
          "text": [
            "              precision    recall  f1-score   support\n",
            "\n",
            "           0       0.52      1.00      0.68      3652\n",
            "           1       1.00      0.07      0.14      3641\n",
            "\n",
            "    accuracy                           0.54      7293\n",
            "   macro avg       0.76      0.54      0.41      7293\n",
            "weighted avg       0.76      0.54      0.41      7293\n",
            "\n"
          ]
        }
      ]
    },
    {
      "cell_type": "code",
      "metadata": {
        "colab": {
          "base_uri": "https://localhost:8080/"
        },
        "id": "0BDrLaMoEd9k",
        "outputId": "3bc7ac0f-3d65-44d8-95ce-28d65ae3d459"
      },
      "source": [
        "len(x_smote[0])"
      ],
      "execution_count": null,
      "outputs": [
        {
          "output_type": "execute_result",
          "data": {
            "text/plain": [
              "150"
            ]
          },
          "metadata": {},
          "execution_count": 36
        }
      ]
    },
    {
      "cell_type": "code",
      "metadata": {
        "id": "sile_UB0SvxM"
      },
      "source": [
        ""
      ],
      "execution_count": null,
      "outputs": []
    }
  ]
}